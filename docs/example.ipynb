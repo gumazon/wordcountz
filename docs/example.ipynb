{
 "cells": [
  {
   "cell_type": "markdown",
   "metadata": {},
   "source": [
    "# Example usage\n",
    "\n",
    "To use `wordcountz` in a project:"
   ]
  },
  {
   "cell_type": "code",
   "execution_count": null,
   "metadata": {},
   "outputs": [],
   "source": [
    "from wordcountz import wordcountz\n",
    "\n",
    "\n",
    "print(wordcountz.__version__)"
   ]
  },
  {
   "cell_type": "code",
   "execution_count": null,
   "metadata": {},
   "outputs": [],
   "source": [
    "from wordcountz.wordcountz import count, plot\n",
    "import matplotlib.pyplot as plt\n",
    "\n",
    "quote = \"Insanity is doing the same thing over and over and expecting different results.\"\n",
    "with open(\"einstein.txt\", \"w\") as file:\n",
    "        file.write(quote)\n",
    "        \n",
    "\n",
    "file_path = \"einstein.txt\" # path to your file\n",
    "\n",
    "wrds = count.words('einstein.txt')\n",
    "plot.bar_top(infile='einstein.txt', n=10, word_counts=wrds, plot_type='bar')\n",
    "plt.show()\n"
   ]
  }
 ],
 "metadata": {
  "kernelspec": {
   "display_name": "Python 3 (ipykernel)",
   "language": "python",
   "name": "python3"
  },
  "language_info": {
   "codemirror_mode": {
    "name": "ipython",
    "version": 3
   },
   "file_extension": ".py",
   "mimetype": "text/x-python",
   "name": "python",
   "nbconvert_exporter": "python",
   "pygments_lexer": "ipython3",
   "version": "3.9.1"
  }
 },
 "nbformat": 4,
 "nbformat_minor": 4
}
