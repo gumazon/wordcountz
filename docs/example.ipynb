{
 "cells": [
  {
   "cell_type": "markdown",
   "metadata": {},
   "source": [
    "# Example usage\n",
    "\n",
    "To use `wordcountz` in a project:"
   ]
  },
  {
   "cell_type": "code",
   "execution_count": 1,
   "metadata": {},
   "outputs": [
    {
     "name": "stdout",
     "output_type": "stream",
     "text": [
      "0.1.0\n"
     ]
    }
   ],
   "source": [
    "import wordcountz\n",
    "\n",
    "\n",
    "print(wordcountz.__version__)"
   ]
  },
  {
   "cell_type": "code",
   "execution_count": 5,
   "metadata": {},
   "outputs": [
    {
     "ename": "TypeError",
     "evalue": "words_in_text() got an unexpected keyword argument 'value'",
     "output_type": "error",
     "traceback": [
      "\u001b[0;31m---------------------------------------------------------------------------\u001b[0m",
      "\u001b[0;31mTypeError\u001b[0m                                 Traceback (most recent call last)",
      "Input \u001b[0;32mIn [5]\u001b[0m, in \u001b[0;36m<module>\u001b[0;34m\u001b[0m\n\u001b[1;32m      1\u001b[0m \u001b[38;5;28;01mfrom\u001b[39;00m \u001b[38;5;21;01mwordcountz\u001b[39;00m \u001b[38;5;28;01mimport\u001b[39;00m count, plot\n\u001b[1;32m      3\u001b[0m value \u001b[38;5;241m=\u001b[39m \u001b[38;5;124m'\u001b[39m\u001b[38;5;124mInsanity is doing the same thing over and over and expecting different results.\u001b[39m\u001b[38;5;124m'\u001b[39m\n\u001b[0;32m----> 5\u001b[0m wrds \u001b[38;5;241m=\u001b[39m \u001b[43mcount\u001b[49m\u001b[38;5;241;43m.\u001b[39;49m\u001b[43mwords\u001b[49m\u001b[43m(\u001b[49m\u001b[43mvalue\u001b[49m\u001b[38;5;241;43m=\u001b[39;49m\u001b[43mvalue\u001b[49m\u001b[43m)\u001b[49m\n\u001b[1;32m      6\u001b[0m fig \u001b[38;5;241m=\u001b[39m plot\u001b[38;5;241m.\u001b[39mtop_words(infile\u001b[38;5;241m=\u001b[39mfile_path, n\u001b[38;5;241m=\u001b[39mn, word_counts\u001b[38;5;241m=\u001b[39mwrds, plot_type\u001b[38;5;241m=\u001b[39mplot_type)\n\u001b[1;32m      7\u001b[0m plt\u001b[38;5;241m.\u001b[39mshow()\n",
      "\u001b[0;31mTypeError\u001b[0m: words_in_text() got an unexpected keyword argument 'value'"
     ]
    }
   ],
   "source": [
    "from wordcountz import count, plot\n",
    "\n",
    "value = 'Insanity is doing the same thing over and over and expecting different results.'\n",
    "\n",
    "wrds = count.words_in_text(value=value)\n",
    "fig = plot.top_words(infile=file_path, n=n, word_counts=wrds, plot_type=plot_type)\n",
    "plt.show()"
   ]
  },
  {
   "cell_type": "code",
   "execution_count": null,
   "metadata": {},
   "outputs": [],
   "source": []
  }
 ],
 "metadata": {
  "kernelspec": {
   "display_name": "Python 3 (ipykernel)",
   "language": "python",
   "name": "python3"
  },
  "language_info": {
   "codemirror_mode": {
    "name": "ipython",
    "version": 3
   },
   "file_extension": ".py",
   "mimetype": "text/x-python",
   "name": "python",
   "nbconvert_exporter": "python",
   "pygments_lexer": "ipython3",
   "version": "3.9.1"
  }
 },
 "nbformat": 4,
 "nbformat_minor": 4
}
